{
 "cells": [
  {
   "cell_type": "markdown",
   "metadata": {},
   "source": [
    "# Applications of Deep Learning to High Energy Physics\n",
    "## Lab 0- Getting Started\n",
    "\n",
    "\n",
    "### Introduction- Jupyter Basics\n",
    "\n",
    "If you are seeing this page, you have successfully connected to our python server via ssh tunnel, logged in, and navigated to this notebook. Jupyter notebooks consist of cells that can hold text or code (usually python). This text that you are reading, was written into a text cell as simple text \"coding\" language known as mark-down. When a cell is run (either automatically at start of the notebook or manually by pressing shift-enter), the mark-down text is interpreted into nice looking text. Running a code cell will execute the code in that cell and give you the results. If you make a mistake, you can usually simply change the cell and re-run. But be aware that since you ran the mistaken cell already, whatever code that was properly executed before your mistake/error, was already executed and has therefore changed your current python environment accordingly. In some cases this situation will be problematic, and you will need to rerun the notebook from the start by pressing the \"reload\" botton (next to the \"stop\" button) above.\n",
    "\n",
    "### Python Overview\n",
    "\n",
    "Our first few labs are intended to try to force everyone to learn sufficient python, numpy, and HDF5 to perform some basic tasks. In this very first lab, we will introduce the fundamentals of python language. The following notebooks were copied from [github pages of Rajath Kumar](https://github.com/rajathkmp/Python-Lectures) from Indian Institute of Science, [License](https://creativecommons.org/licenses/by/3.0/). They provide a quick overview of basic python syntax. \n",
    "\n",
    "Carefully read through the following notebooks and familiarize yourself with python. Run the code cells (by pressing shift-enter when in the cell) in the notebooks and make sure you understand the output. \n",
    "\n",
    "   * [Variables, Operators, ...](Python-Lectures/01.ipynb)\n",
    "   * [Print Statements](Python-Lectures/02.ipynb)\n",
    "   * [Data Structures](Python-Lectures/03.ipynb)\n",
    "   * [Strings](Python-Lectures/04.ipynb)\n",
    "   * [Control Flow](Python-Lectures/05.ipynb)\n",
    "   * [Functions](Python-Lectures/06.ipynb)\n",
    "   * [Classes](Python-Lectures/07.ipynb)\n"
   ]
  },
  {
   "cell_type": "markdown",
   "metadata": {
    "collapsed": true
   },
   "source": [
    "### Reading Code\n",
    "\n",
    "Reading and understanding code written by others is an important part of learning to code yourself. Carefully read through these [python exercises](http://www.practicepython.org) and their solutions. Then as practice, pick 3 exercises and solve them in this notebook below. You will be asked next week to solve an exercise in class. \n",
    "\n"
   ]
  },
  {
   "cell_type": "markdown",
   "metadata": {},
   "source": [
    "### 1. Exercise 01: Character Input"
   ]
  },
  {
   "cell_type": "code",
   "execution_count": 4,
   "metadata": {},
   "outputs": [
    {
     "name": "stdout",
     "output_type": "stream",
     "text": [
      "What is your name?: David\n",
      "And how old are you, David?: 20\n",
      "You will turn 100 in 80 years, David \n"
     ]
    }
   ],
   "source": [
    "name = input(\"What is your name?: \")\n",
    "age = int(input(\"And how old are you, %s\" % name + \"?: \"))\n",
    "print(\"You will turn 100 in %d\" % (100-age) + \" years, %s \" % name)"
   ]
  },
  {
   "cell_type": "markdown",
   "metadata": {},
   "source": [
    "### 2. Exercise 06: String Lists"
   ]
  },
  {
   "cell_type": "code",
   "execution_count": null,
   "metadata": {
    "collapsed": true
   },
   "outputs": [],
   "source": [
    "text = str(input(\"Tell me something and I'll tell you if it's a palindrome: \")).replace(' ','').lower()\n",
    "#throw out the spaces, make it all lowercase\n",
    "\n",
    "ans=True #assume it's a palindrome, so we can stop the function when it's not\n",
    "for i in range(len(text)): #take as many steps as there are letters in the input\n",
    "    if(ans==True):\n",
    "        a=text[i]\n",
    "        b=text[len(text)-1-i] #grab both of these for quick comparison: a reading from left, b from right\n",
    "        if(a!=b): #compare them side by side, and if they don't match\n",
    "            ans=False #then it's not a palindrome\n",
    "if(ans==True):\n",
    "    print(\"That looks like a palindrome to me!\")\n",
    "else:\n",
    "    print(\"I don't think that's a palindrome.\")"
   ]
  },
  {
   "cell_type": "markdown",
   "metadata": {},
   "source": [
    "### 3. Exercise 16: Password Generator"
   ]
  },
  {
   "cell_type": "code",
   "execution_count": 3,
   "metadata": {},
   "outputs": [
    {
     "name": "stdout",
     "output_type": "stream",
     "text": [
      "Generate a password? (Y/N): y\n",
      "How long do you want your password to be?: 8\n",
      "8IDAQ/w)\n",
      "Generate another password? (Y/N): y\n",
      "How long do you want your password to be?: 15\n",
      "UYiYNwa2y!SYmcf\n",
      "Generate another password? (Y/N): n\n"
     ]
    }
   ],
   "source": [
    "import random\n",
    "\n",
    "inp=str(input(\"Generate a password? (Y/N): \")).lower()[0]\n",
    "\n",
    "def genpw(ln):\n",
    "    base=\"AaBbCcDdEeFfGgHhIiJjKkLlMmNnOoPpQqRrSsTtUuVvWwXxYyZz0123456789!@#$%^&*()-=_+,./<>?;':\\\"[]{}\\|\"\n",
    "\n",
    "    pw=[]\n",
    "    for i in range(ln):\n",
    "        pw.append(base[random.randint(0, len(base)-1)])\n",
    "    print(''.join(pw))\n",
    "\n",
    "while (inp==\"y\"):\n",
    "    length=int(input(\"How long do you want your password to be?: \"))\n",
    "    genpw(length)\n",
    "    inp=str(input(\"Generate another password? (Y/N): \")).lower()[0]\n"
   ]
  },
  {
   "cell_type": "markdown",
   "metadata": {},
   "source": [
    "### Test Yourself\n",
    "\n",
    "Write a function that takes in a string and determines the number of unique words (ignoring capitalization and punctuation) and returns an dictionary where the key of each entry is the word and the value is the number of times the word appears in the string. Demonstrate that your function works by applying it to the introduction paragraph above."
   ]
  },
  {
   "cell_type": "code",
   "execution_count": 4,
   "metadata": {
    "scrolled": true
   },
   "outputs": [
    {
     "data": {
      "text/plain": [
       "{'': 1,\n",
       " 'a': 4,\n",
       " 'above': 1,\n",
       " 'accordingly': 1,\n",
       " 'already': 2,\n",
       " 'and': 5,\n",
       " 'are': 2,\n",
       " 'as': 2,\n",
       " 'at': 1,\n",
       " 'automatically': 1,\n",
       " 'aware': 1,\n",
       " 'be': 2,\n",
       " 'before': 1,\n",
       " 'botton': 1,\n",
       " 'but': 1,\n",
       " 'button': 1,\n",
       " 'by': 2,\n",
       " 'can': 2,\n",
       " 'cases': 1,\n",
       " 'cell': 6,\n",
       " 'cells': 1,\n",
       " 'change': 1,\n",
       " 'changed': 1,\n",
       " 'code': 4,\n",
       " 'coding': 1,\n",
       " 'connected': 1,\n",
       " 'consist': 1,\n",
       " 'current': 1,\n",
       " 'either': 1,\n",
       " 'environment': 1,\n",
       " 'execute': 1,\n",
       " 'executed': 2,\n",
       " 'from': 1,\n",
       " 'give': 1,\n",
       " 'has': 1,\n",
       " 'have': 1,\n",
       " 'hold': 1,\n",
       " 'if': 2,\n",
       " 'in': 3,\n",
       " 'interpreted': 1,\n",
       " 'into': 2,\n",
       " 'is': 2,\n",
       " 'jupyter': 1,\n",
       " 'known': 1,\n",
       " 'language': 1,\n",
       " 'logged': 1,\n",
       " 'looking': 1,\n",
       " 'make': 1,\n",
       " 'manually': 1,\n",
       " 'mark-down': 2,\n",
       " 'mistake': 1,\n",
       " 'mistake/error': 1,\n",
       " 'mistaken': 1,\n",
       " 'navigated': 1,\n",
       " 'need': 1,\n",
       " 'next': 1,\n",
       " 'nice': 1,\n",
       " 'notebook': 3,\n",
       " 'notebooks': 1,\n",
       " 'of': 2,\n",
       " 'or': 2,\n",
       " 'our': 1,\n",
       " 'page': 1,\n",
       " 'pressing': 2,\n",
       " 'problematic': 1,\n",
       " 'properly': 1,\n",
       " 'python': 3,\n",
       " 'ran': 1,\n",
       " 're-run': 1,\n",
       " 'reading': 1,\n",
       " 'reload': 1,\n",
       " 'rerun': 1,\n",
       " 'results': 1,\n",
       " 'run': 1,\n",
       " 'running': 1,\n",
       " 'seeing': 1,\n",
       " 'server': 1,\n",
       " 'shift-enter': 1,\n",
       " 'simple': 1,\n",
       " 'simply': 1,\n",
       " 'since': 1,\n",
       " 'situation': 1,\n",
       " 'some': 1,\n",
       " 'ssh': 1,\n",
       " 'start': 2,\n",
       " 'stop': 1,\n",
       " 'successfully': 1,\n",
       " 'text': 6,\n",
       " 'that': 5,\n",
       " 'the': 10,\n",
       " 'therefore': 1,\n",
       " 'this': 4,\n",
       " 'to': 4,\n",
       " 'tunnel': 1,\n",
       " 'usually': 2,\n",
       " 'via': 1,\n",
       " 'was': 3,\n",
       " 'whatever': 1,\n",
       " 'when': 1,\n",
       " 'will': 3,\n",
       " 'written': 1,\n",
       " 'you': 8,\n",
       " 'your': 2}"
      ]
     },
     "execution_count": 4,
     "metadata": {},
     "output_type": "execute_result"
    }
   ],
   "source": [
    "def webster(inp):\n",
    "    words=inp.replace('.','').replace(',','').replace('(','').replace(')','').replace('\\n',' ').replace('\"','').lower().split(' ')\n",
    "    s=([])\n",
    "    d=dict()\n",
    "    for w in words: #do this for as many words as there are in the input\n",
    "        s.append(w)\n",
    "        d[w]=s.count(w)\n",
    "       \n",
    "    return d\n",
    "\n",
    "        \n",
    "para=\"\"\"If you are seeing this page, you have successfully connected to our python server via ssh tunnel,\n",
    "logged in, and navigated to this notebook. Jupyter notebooks consist of cells that can hold text or code (usually python).\n",
    "This text that you are reading, was written into a text cell as simple text \"coding\" language known as mark-down.\n",
    "When a cell is run (either automatically at start of the notebook or manually by pressing shift-enter),\n",
    "the mark-down text is interpreted into nice looking text. Running a code cell will execute the code in that cell\n",
    "and give you the results. If you make a mistake, you can usually simply change the cell and re-run.\n",
    "But be aware that since you ran the mistaken cell already, whatever code that was properly executed \n",
    "before your mistake/error, was already executed and has therefore changed your current python environment\n",
    "accordingly. In some cases this situation will be problematic, and you will need to rerun the notebook from the\n",
    "start by pressing the \"reload\" botton (next to the \"stop\" button) above.\"\"\"\n",
    "webster(para)"
   ]
  },
  {
   "cell_type": "code",
   "execution_count": 22,
   "metadata": {},
   "outputs": [
    {
     "name": "stdout",
     "output_type": "stream",
     "text": [
      "Gimme a number and I'll tell you if I think it's prime: 127\n",
      "I think that's prime!\n"
     ]
    }
   ],
   "source": [
    "#Check if a number is prime\n",
    "\n",
    "import math\n",
    "\n",
    "num = float(input(\"Gimme a number and I'll tell you if I think it's prime: \"))\n",
    "ans = True #turn False when it's easily cleanly divisible = has a remainder of 0 after division\n",
    "for i in range(2, (int)(math.sqrt(num))): #check against every number between 2 and the sqrt of the number itself\n",
    "    if(num%i)==0.0: ans=False\n",
    "if(ans==False):\n",
    "    print(\"That's not prime!\")\n",
    "else: print(\"I think that's prime!\")"
   ]
  },
  {
   "cell_type": "code",
   "execution_count": null,
   "metadata": {
    "collapsed": true
   },
   "outputs": [],
   "source": []
  },
  {
   "cell_type": "code",
   "execution_count": null,
   "metadata": {
    "collapsed": true
   },
   "outputs": [],
   "source": []
  }
 ],
 "metadata": {
  "kernelspec": {
   "display_name": "Python 3",
   "language": "python",
   "name": "python3"
  },
  "language_info": {
   "codemirror_mode": {
    "name": "ipython",
    "version": 3
   },
   "file_extension": ".py",
   "mimetype": "text/x-python",
   "name": "python",
   "nbconvert_exporter": "python",
   "pygments_lexer": "ipython3",
   "version": "3.5.2"
  }
 },
 "nbformat": 4,
 "nbformat_minor": 2
}
